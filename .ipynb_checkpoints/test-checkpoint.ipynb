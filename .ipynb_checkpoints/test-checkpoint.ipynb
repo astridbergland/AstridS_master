{
 "cells": [
  {
   "cell_type": "code",
   "execution_count": 1,
   "id": "working-cross",
   "metadata": {},
   "outputs": [],
   "source": [
    "import netCDF4 as nc\n",
    "import numpy as np\n",
    "import cartopy.feature as cfeatures\n",
    "import pandas as pd \n",
    "# 1 \n",
    "import os\n",
    "from os import listdir\n",
    "from os.path import isfile, join"
   ]
  },
  {
   "cell_type": "code",
   "execution_count": 2,
   "id": "behavioral-student",
   "metadata": {},
   "outputs": [],
   "source": [
    "path = 'Data/'"
   ]
  },
  {
   "cell_type": "code",
   "execution_count": 3,
   "id": "supported-hawaii",
   "metadata": {},
   "outputs": [],
   "source": [
    "onlyfiles = [f for f in listdir(path) if isfile(join(path, f))]"
   ]
  },
  {
   "cell_type": "code",
   "execution_count": 4,
   "id": "pleasant-alarm",
   "metadata": {},
   "outputs": [],
   "source": [
    "os.chdir(path) # do not run multiply times "
   ]
  },
  {
   "cell_type": "code",
   "execution_count": 60,
   "id": "false-taxation",
   "metadata": {},
   "outputs": [],
   "source": [
    "sal = []\n",
    "temp = []\n",
    "for i in range(len(onlyfiles)): # this will take a while\n",
    "    data = nc.Dataset(onlyfiles[i])\n",
    "    for j in range(len(data['salinity'])):\n",
    "        sal.append(data['salinity'][j])\n",
    "        temp.append(data['temperature'][j])"
   ]
  },
  {
   "cell_type": "code",
   "execution_count": 52,
   "id": "distant-persian",
   "metadata": {},
   "outputs": [],
   "source": [
    "# converting list into array\n",
    "salt = np.asarray(sal) \n",
    "temp = np.asarray(temp)"
   ]
  },
  {
   "cell_type": "code",
   "execution_count": 53,
   "id": "pleased-copying",
   "metadata": {},
   "outputs": [
    {
     "data": {
      "text/plain": [
       "35.0191"
      ]
     },
     "execution_count": 53,
     "metadata": {},
     "output_type": "execute_result"
    }
   ],
   "source": [
    "# making the data easier to work with \n",
    "df = pd.DataFrame()\n",
    "df['salinity'] = salt\n",
    "df['temp'] = temp\n",
    "salt.max()"
   ]
  },
  {
   "cell_type": "code",
   "execution_count": 67,
   "id": "surrounded-gentleman",
   "metadata": {},
   "outputs": [],
   "source": [
    "# this creates a new dataset with just the values above certain limits\n",
    "df1 = df.loc[(df['temp']>=0) & (df['salinity']>=34.95)]"
   ]
  },
  {
   "cell_type": "code",
   "execution_count": 68,
   "id": "precious-singles",
   "metadata": {},
   "outputs": [
    {
     "data": {
      "text/plain": [
       "2.4034528497409324"
      ]
     },
     "execution_count": 68,
     "metadata": {},
     "output_type": "execute_result"
    }
   ],
   "source": [
    "# the mean temperature\n",
    "df1['temp'].mean()"
   ]
  }
 ],
 "metadata": {
  "kernelspec": {
   "display_name": "Python 3",
   "language": "python",
   "name": "python3"
  },
  "language_info": {
   "codemirror_mode": {
    "name": "ipython",
    "version": 3
   },
   "file_extension": ".py",
   "mimetype": "text/x-python",
   "name": "python",
   "nbconvert_exporter": "python",
   "pygments_lexer": "ipython3",
   "version": "3.8.6"
  }
 },
 "nbformat": 4,
 "nbformat_minor": 5
}
